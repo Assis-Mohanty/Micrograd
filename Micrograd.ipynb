{
  "nbformat": 4,
  "nbformat_minor": 0,
  "metadata": {
    "colab": {
      "provenance": [],
      "authorship_tag": "ABX9TyMOzSSeJJHF6mZ1K9Yi1TVZ",
      "include_colab_link": true
    },
    "kernelspec": {
      "name": "python3",
      "display_name": "Python 3"
    },
    "language_info": {
      "name": "python"
    }
  },
  "cells": [
    {
      "cell_type": "markdown",
      "metadata": {
        "id": "view-in-github",
        "colab_type": "text"
      },
      "source": [
        "<a href=\"https://colab.research.google.com/github/Assis-Mohanty/Micrograd/blob/main/Micrograd.ipynb\" target=\"_parent\"><img src=\"https://colab.research.google.com/assets/colab-badge.svg\" alt=\"Open In Colab\"/></a>"
      ]
    },
    {
      "cell_type": "code",
      "source": [
        "import math\n",
        "import numpy as np\n",
        "import matplotlib.pyplot as plt\n",
        "%matplotlib inline"
      ],
      "metadata": {
        "id": "d_3tEKu3BHFQ"
      },
      "execution_count": null,
      "outputs": []
    },
    {
      "cell_type": "code",
      "execution_count": null,
      "metadata": {
        "id": "6kh9R3vH_tSi"
      },
      "outputs": [],
      "source": [
        "class Value:\n",
        "  def __init__(self,data,_children=(),_op='',label=''):\n",
        "    self.data = data\n",
        "    self._prev=set(_children)\n",
        "    self._op=_op\n",
        "    self.label=label\n",
        "    self.grad=0\n",
        "    self._backward=lambda:None\n",
        "\n",
        "  def __repr__(self):\n",
        "    return f\"Value(data={self.data})\"\n",
        "\n",
        "  def __add__(self,other):\n",
        "    other=other if isinstance(other,Value) else Value(other)\n",
        "    out=Value(self.data+other.data,(self,other),'+')\n",
        "    def _backward():\n",
        "      self.grad+=1.0*out.grad\n",
        "      other.grad+=1.0*out.grad\n",
        "    out._backward=_backward\n",
        "    return out\n",
        "\n",
        "  def __radd__(self,other):\n",
        "    return self+other\n",
        "\n",
        "  def __neg__(self):\n",
        "    return self*-1\n",
        "\n",
        "  def __sub__(self,other):\n",
        "    return self+(-other)\n",
        "\n",
        "  def __mul__(self,other):\n",
        "    other=other if isinstance(other,Value) else Value(other)\n",
        "    out=Value(self.data*other.data,(self,other),'*')\n",
        "    def _backward():\n",
        "      self.grad+=other.grad*out.grad\n",
        "      other.grad+=self.grad*out.grad\n",
        "    out._backward=_backward\n",
        "    return out\n",
        "\n",
        "  def __pow__(self,other):\n",
        "    assert isinstance(other,(int,float))\n",
        "    out=Value(self.data**other,(self,),f'**{other}')\n",
        "    def _backward():\n",
        "      self.grad += (other *self.data**(other-1))*out.grad\n",
        "    out._backward=_backward\n",
        "    return out\n",
        "\n",
        "  def __rmul__(self,other):\n",
        "    return self*other\n",
        "\n",
        "  def __truediv__(self,other):\n",
        "    return self*other**-1\n",
        "\n",
        "  def tanh(self):\n",
        "    z=self.data\n",
        "    t=(math.exp(2*z)-1)/(math.exp(2*z)+1)\n",
        "    out=Value(t,(self,),'tanh')\n",
        "    def _backward():\n",
        "      self.grad+=(1-t**2)*out.grad\n",
        "    out._backward=_backward\n",
        "    return out\n",
        "\n",
        "  def exp(self):\n",
        "    z=self.data\n",
        "    e=math.exp(z)\n",
        "    out=Value(e,(self,),'exp')\n",
        "    def _backward():\n",
        "      self.grad+=out*out.grad\n",
        "    out._backward=_backward\n",
        "    return out\n",
        "\n",
        "  def backward(self):\n",
        "\n",
        "    topo = []\n",
        "    visited = set()\n",
        "    def build_topo(v):\n",
        "      if v not in visited:\n",
        "        visited.add(v)\n",
        "        for child in v._prev:\n",
        "          build_topo(child)\n",
        "        topo.append(v)\n",
        "    build_topo(self)\n",
        "\n",
        "    self.grad = 1.0\n",
        "    for node in reversed(topo):\n",
        "      node._backward()"
      ]
    },
    {
      "cell_type": "code",
      "source": [
        "from graphviz import Digraph\n",
        "\n",
        "def trace(root):\n",
        "  # builds a set of all nodes and edges in a graph\n",
        "  nodes, edges = set(), set()\n",
        "  def build(v):\n",
        "    if v not in nodes:\n",
        "      nodes.add(v)\n",
        "      for child in v._prev:\n",
        "        edges.add((child, v))\n",
        "        build(child)\n",
        "  build(root)\n",
        "  return nodes, edges\n",
        "\n",
        "def draw_dot(root):\n",
        "  dot = Digraph(format='svg', graph_attr={'rankdir': 'LR'}) # LR = left to right\n",
        "\n",
        "  nodes, edges = trace(root)\n",
        "  for n in nodes:\n",
        "    uid = str(id(n))\n",
        "    # for any value in the graph, create a rectangular ('record') node for it\n",
        "    dot.node(name = uid, label = \"{ %s | data %.4f | grad %.4f }\" % (n.label, n.data, n.grad), shape='record')\n",
        "    if n._op:\n",
        "      # if this value is a result of some operation, create an op node for it\n",
        "      dot.node(name = uid + n._op, label = n._op)\n",
        "      # and connect this node to it\n",
        "      dot.edge(uid + n._op, uid)\n",
        "\n",
        "  for n1, n2 in edges:\n",
        "    # connect n1 to the op node of n2\n",
        "    dot.edge(str(id(n1)), str(id(n2)) + n2._op)\n",
        "\n",
        "  return dot"
      ],
      "metadata": {
        "id": "NSZlrEM2CL2B"
      },
      "execution_count": null,
      "outputs": []
    },
    {
      "cell_type": "code",
      "source": [
        "import torch"
      ],
      "metadata": {
        "id": "nF7CjOmC7A98"
      },
      "execution_count": null,
      "outputs": []
    },
    {
      "cell_type": "code",
      "source": [
        "x1=torch.Tensor([2.0]).double()\n",
        "x2=torch.Tensor([0.0]).double()"
      ],
      "metadata": {
        "id": "9kiDBff__xYl"
      },
      "execution_count": null,
      "outputs": []
    },
    {
      "cell_type": "code",
      "source": [
        "x1 = torch.Tensor([2.0]).double() ; x1.requires_grad = True\n",
        "x2 = torch. Tensor ([0.0]).double() ; x2.requires_grad = True\n",
        "w1 = torch. Tensor([-3.0]) .double() ; w1.requires_grad = True\n",
        "w2 = torch. Tensor([1.0]) .double() ; w2.requires_grad = True\n",
        "b = torch. Tensor ( [6.8813735870195432]) .double() ; b.requires_grad = True\n",
        "n= x1*w1 + x2*w2 + b\n",
        "o = torch. tanh(n)\n",
        "print(o.data. item())\n",
        "o.backward()\n",
        "print('-—\"')\n",
        "print('x2', x2.grad.item())\n",
        "print('w2', w2.grad.item())\n",
        "print('x1', x1.grad.item())\n",
        "print('w1', w1.grad.item())"
      ],
      "metadata": {
        "colab": {
          "base_uri": "https://localhost:8080/"
        },
        "id": "Iw6BAkxAAFu2",
        "outputId": "f6e72a09-1f3b-4b50-ae35-ccbc60400927"
      },
      "execution_count": null,
      "outputs": [
        {
          "output_type": "stream",
          "name": "stdout",
          "text": [
            "0.7071066904050358\n",
            "-—\"\n",
            "x2 0.5000001283844369\n",
            "w2 0.0\n",
            "x1 -1.5000003851533106\n",
            "w1 1.0000002567688737\n"
          ]
        }
      ]
    },
    {
      "cell_type": "code",
      "source": [
        "import random\n",
        "class Neuron:\n",
        "  def __init__(self,nin):\n",
        "    self.w=[Value(random.uniform(-1,1)) for _ in range(nin)]\n",
        "    self.b=Value(random.uniform(-1,1))\n",
        "  def __call__(self,x):\n",
        "    act=sum((wi*xi for wi,xi  in zip(self.w,x)),self.b)\n",
        "    out=act.tanh()\n",
        "    return out\n",
        "  def parameters(self):\n",
        "    return self.w+[self.b]\n",
        "class Layer:\n",
        "  def __init__(self,nin,nout):\n",
        "    self.neurons=[Neuron(nin) for _ in range(nout)]\n",
        "  def __call__(self,x):\n",
        "    outs=[n(x) for n in self.neurons]\n",
        "    return outs[0] if len(outs)==1 else outs\n",
        "  def parameters(self):\n",
        "    params=[]\n",
        "    for neuron in self.neurons:\n",
        "      ps=neuron.parameters()\n",
        "      params.extend(ps)\n",
        "    return params\n",
        "\n",
        "class MLP:\n",
        "  def __init__(self,nin,nouts):\n",
        "    sz=[nin]+nouts\n",
        "    self.layers=[Layer(sz[i],sz[i+1]) for  i in range(len(nouts))]\n",
        "\n",
        "  def __call__(self,x):\n",
        "    for layer in self.layers:\n",
        "      x=layer(x)\n",
        "    return x\n",
        "\n",
        "  def parameters(self):\n",
        "    return [p for layer in self.layers for p in layer.parameters()]"
      ],
      "metadata": {
        "id": "JRAa2GajAYe8"
      },
      "execution_count": null,
      "outputs": []
    },
    {
      "cell_type": "code",
      "source": [
        "x=[2.0,2.4,1.3]\n",
        "n=MLP(3,[5,5,1])\n",
        "n(x)"
      ],
      "metadata": {
        "colab": {
          "base_uri": "https://localhost:8080/"
        },
        "id": "803EjQovFNMZ",
        "outputId": "083f8b2d-888f-4a48-c8eb-c43f4cee0683"
      },
      "execution_count": null,
      "outputs": [
        {
          "output_type": "execute_result",
          "data": {
            "text/plain": [
              "Value(data=0.8308343924013168)"
            ]
          },
          "metadata": {},
          "execution_count": 353
        }
      ]
    },
    {
      "cell_type": "code",
      "source": [
        "n.parameters()"
      ],
      "metadata": {
        "colab": {
          "base_uri": "https://localhost:8080/"
        },
        "collapsed": true,
        "id": "j9KzmT_XP4ZN",
        "outputId": "18f52558-df11-4aed-bb66-76b4e624ad7e"
      },
      "execution_count": null,
      "outputs": [
        {
          "output_type": "execute_result",
          "data": {
            "text/plain": [
              "[Value(data=0.5913690109615413),\n",
              " Value(data=0.3919393139003311),\n",
              " Value(data=0.9996004451597367),\n",
              " Value(data=0.745790233357565),\n",
              " Value(data=0.8696597251725988),\n",
              " Value(data=0.13791795163495402),\n",
              " Value(data=-0.14785896304575274),\n",
              " Value(data=-0.23680319540467498),\n",
              " Value(data=0.8768586672089129),\n",
              " Value(data=-0.9696708754192989),\n",
              " Value(data=-0.8216356169306136),\n",
              " Value(data=-0.28963021106888465),\n",
              " Value(data=0.20987928001910028),\n",
              " Value(data=0.48719886175497606),\n",
              " Value(data=-0.19848272151900725),\n",
              " Value(data=-0.6570308038182018),\n",
              " Value(data=0.7012754540809263),\n",
              " Value(data=0.34705884663632647),\n",
              " Value(data=-0.17770101388259252),\n",
              " Value(data=-0.48323945037577576),\n",
              " Value(data=-0.9525379887869134),\n",
              " Value(data=0.5466194015138772),\n",
              " Value(data=-0.5944603534619379),\n",
              " Value(data=-0.20903825179070012),\n",
              " Value(data=0.5252877898656296),\n",
              " Value(data=-0.8724080104831411),\n",
              " Value(data=-0.6241531291202922),\n",
              " Value(data=-0.9780092058173866),\n",
              " Value(data=-0.9173803016998103),\n",
              " Value(data=-0.23752890810778537),\n",
              " Value(data=0.31939497041661924),\n",
              " Value(data=0.6011969098489431),\n",
              " Value(data=0.4770171852697005),\n",
              " Value(data=0.534135131721849),\n",
              " Value(data=0.86842827399392),\n",
              " Value(data=-0.5242210770704185),\n",
              " Value(data=-0.5042186337038013),\n",
              " Value(data=-0.11116587409914125),\n",
              " Value(data=-0.8910746952091737),\n",
              " Value(data=0.8641563191963098),\n",
              " Value(data=0.23329789203115747),\n",
              " Value(data=-0.4753550758928913),\n",
              " Value(data=-0.4960362212389977),\n",
              " Value(data=0.4908996563722634),\n",
              " Value(data=0.8541078784948182),\n",
              " Value(data=-0.7099886527553345),\n",
              " Value(data=-0.9603396637348884),\n",
              " Value(data=-0.4488259706796538),\n",
              " Value(data=-0.7654897607196567),\n",
              " Value(data=-0.8792313406487162),\n",
              " Value(data=0.03264294088322961),\n",
              " Value(data=-0.720071673208097),\n",
              " Value(data=-0.25049356254015387),\n",
              " Value(data=-0.6655505553414387),\n",
              " Value(data=0.15303445397959803),\n",
              " Value(data=-0.7619304071361481)]"
            ]
          },
          "metadata": {},
          "execution_count": 384
        }
      ]
    },
    {
      "cell_type": "code",
      "source": [
        "xs = [\n",
        "  [2.0, 3.0, -1.0],\n",
        "  [3.0, -1.0, 0.5],\n",
        "  [0.5, 1.0, 1.0],\n",
        "  [1.0, 1.0, -1.0],\n",
        "]\n",
        "ys = [1.0, -1.0, -1.0, 1.0]"
      ],
      "metadata": {
        "id": "AUGBICY4HMDe"
      },
      "execution_count": null,
      "outputs": []
    },
    {
      "cell_type": "code",
      "source": [
        "for k in range(20):\n",
        "\n",
        "  # forward pass\n",
        "  ypred = [n(x) for x in xs]\n",
        "  loss = sum((yout - ygt)**2 for ygt, yout in zip(ys, ypred))\n",
        "\n",
        "  # backward pass\n",
        "  for p in n.parameters():\n",
        "    p.grad = 0.0\n",
        "  loss.backward()\n",
        "\n",
        "  # update\n",
        "  for p in n.parameters():\n",
        "    p.data += -0.1 * p.grad\n",
        "\n",
        "  print(k, loss.data)"
      ],
      "metadata": {
        "colab": {
          "base_uri": "https://localhost:8080/"
        },
        "id": "iBuLuObj1Lsd",
        "outputId": "8e7f7ff6-b3b4-4122-8052-ae2d1f37f7cf"
      },
      "execution_count": null,
      "outputs": [
        {
          "output_type": "stream",
          "name": "stdout",
          "text": [
            "0 2.832223267605169\n",
            "1 2.832223267605169\n",
            "2 2.8322232676051695\n",
            "3 2.8322232676051695\n",
            "4 2.8322232676051695\n",
            "5 2.832223267605169\n",
            "6 2.832223267605169\n",
            "7 2.832223267605169\n",
            "8 2.832223267605169\n",
            "9 2.8322232676051695\n",
            "10 2.832223267605169\n",
            "11 2.832223267605169\n",
            "12 2.832223267605169\n",
            "13 2.8322232676051695\n",
            "14 2.8322232676051695\n",
            "15 2.832223267605169\n",
            "16 2.832223267605169\n",
            "17 2.832223267605169\n",
            "18 2.8322232676051695\n",
            "19 2.832223267605169\n"
          ]
        }
      ]
    },
    {
      "cell_type": "code",
      "source": [
        "ypred"
      ],
      "metadata": {
        "colab": {
          "base_uri": "https://localhost:8080/"
        },
        "id": "3aFRUiar2WCA",
        "outputId": "2599325f-14d5-462c-c396-e1914f018273"
      },
      "execution_count": null,
      "outputs": [
        {
          "output_type": "execute_result",
          "data": {
            "text/plain": [
              "[Value(data=0.42587684742471144),\n",
              " Value(data=-0.18473167523552644),\n",
              " Value(data=-0.2003898151117779),\n",
              " Value(data=-0.09479084036218231)]"
            ]
          },
          "metadata": {},
          "execution_count": 429
        }
      ]
    },
    {
      "cell_type": "code",
      "source": [],
      "metadata": {
        "id": "Ky9feazJ3Cxr"
      },
      "execution_count": null,
      "outputs": []
    }
  ]
}